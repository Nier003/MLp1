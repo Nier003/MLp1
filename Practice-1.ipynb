{
 "cells": [
  {
   "cell_type": "markdown",
   "metadata": {},
   "source": [
    "<div style=\"direction:rtl\">\n",
    "\n",
    "## نیما ارشادی"
   ]
  },
  {
   "cell_type": "markdown",
   "metadata": {},
   "source": [
    "<div style=\"direction:rtl\">\n",
    " تمرین اول"
   ]
  },
  {
   "cell_type": "markdown",
   "metadata": {},
   "source": [
    "<div style=\"direction:rtl\">\n",
    "هفت به توان چهار را محاسبه نمایید."
   ]
  },
  {
   "cell_type": "code",
   "execution_count": 1,
   "metadata": {},
   "outputs": [
    {
     "data": {
      "text/plain": [
       "2401"
      ]
     },
     "execution_count": 1,
     "metadata": {},
     "output_type": "execute_result"
    }
   ],
   "source": [
    "7**4"
   ]
  },
  {
   "cell_type": "markdown",
   "metadata": {},
   "source": [
    "<div style=\"direction:rtl\">\n",
    "ابتدا استرینگ زیر را تعریف نمایید و سپس با استفاده از متد های استرینگ، کلمات این جمله را از هم جدا کنید و در یک لیست ذخیره کنید.\n",
    "<div style=\"direction:ltr\">\n",
    "s = \"Hi there Mohammad!\""
   ]
  },
  {
   "cell_type": "code",
   "execution_count": 3,
   "metadata": {},
   "outputs": [
    {
     "data": {
      "text/plain": [
       "['Hi', 'there', 'Mohammad!']"
      ]
     },
     "execution_count": 3,
     "metadata": {},
     "output_type": "execute_result"
    }
   ],
   "source": [
    "s = \"Hi there Mohammad!\"\n",
    "s.split()"
   ]
  },
  {
   "cell_type": "code",
   "execution_count": 4,
   "metadata": {},
   "outputs": [
    {
     "data": {
      "text/plain": [
       "['Hi', 'there', 'Sam!']"
      ]
     },
     "execution_count": 4,
     "metadata": {},
     "output_type": "execute_result"
    }
   ],
   "source": [
    "s = \"Hi there Sam!\"\n",
    "s.split()"
   ]
  },
  {
   "cell_type": "markdown",
   "metadata": {},
   "source": [
    "<div style=\"direction:rtl\">\n",
    "ابتدا دو متغیر زیر را تعریف نمایید :\n",
    "<div style=\"direction:ltr\">    \n",
    "planet = \"Earth\"\n",
    "    \n",
    "diameter = 12742\n",
    "<div style=\"direction:rtl\">\n",
    "سپس با دو روش مختلف 1.عادی 2.با کمک فرمت، جمله ی زیر را نمایش دهید :\n",
    "<div style=\"direction:ltr\">  \n",
    "The diameter of Earth is 12742 kilometers."
   ]
  },
  {
   "cell_type": "code",
   "execution_count": 11,
   "metadata": {},
   "outputs": [],
   "source": [
    "planet = 'Earth'\n"
   ]
  },
  {
   "cell_type": "code",
   "execution_count": 12,
   "metadata": {},
   "outputs": [],
   "source": [
    "diameter = 12742"
   ]
  },
  {
   "cell_type": "code",
   "execution_count": 13,
   "metadata": {},
   "outputs": [
    {
     "name": "stdout",
     "output_type": "stream",
     "text": [
      "The diameter of Earth is 12742 kilometers.\n"
     ]
    }
   ],
   "source": [
    "print(\"The diameter of\",planet,\"is\",diameter,\"kilometers.\")"
   ]
  },
  {
   "cell_type": "code",
   "execution_count": 14,
   "metadata": {},
   "outputs": [
    {
     "name": "stdout",
     "output_type": "stream",
     "text": [
      "The diameter of Earth is 12742 kilometers.\n"
     ]
    }
   ],
   "source": [
    "print(\"The diameter of {} is {} kilometers.\".format(planet,diameter))"
   ]
  },
  {
   "cell_type": "markdown",
   "metadata": {},
   "source": [
    "<div style=\"direction:rtl\">\n",
    "به کمک ایندکسینگ در لیست های تو در تو، به لغت ایران در لیست زیر دست پیدا کنید."
   ]
  },
  {
   "cell_type": "code",
   "execution_count": 19,
   "metadata": {},
   "outputs": [],
   "source": [
    "lst = [1,2,[3,4],[5,[100,200,['Iran']],23,11],1,7]"
   ]
  },
  {
   "cell_type": "code",
   "execution_count": 28,
   "metadata": {},
   "outputs": [
    {
     "data": {
      "text/plain": [
       "'Iran'"
      ]
     },
     "execution_count": 28,
     "metadata": {},
     "output_type": "execute_result"
    }
   ],
   "source": [
    "lst[3][1][2][0]"
   ]
  },
  {
   "cell_type": "markdown",
   "metadata": {},
   "source": [
    "<div style=\"direction:rtl\">\n",
    "به کمک ایندکسینگ در دیکشنری های تو در تو، به لغت ایران در دیکشنری زیر دست پیدا کنید."
   ]
  },
  {
   "cell_type": "code",
   "execution_count": 98,
   "metadata": {},
   "outputs": [],
   "source": [
    "d = {'k1':[1,2,3,{'tricky':['oh','man','inception',{'target':[1,2,3,'Iran']}]}]}"
   ]
  },
  {
   "cell_type": "code",
   "execution_count": 105,
   "metadata": {},
   "outputs": [
    {
     "data": {
      "text/plain": [
       "'Iran'"
      ]
     },
     "execution_count": 105,
     "metadata": {},
     "output_type": "execute_result"
    }
   ],
   "source": [
    "list(list(list(list(d.values())[0])[3].values())[0][3].values())[0][3]\n",
    "\n",
    "#مراحل کد زده شده \n",
    "#q = d.values()\n",
    "#w = list(list(q)[0])[3]\n",
    "#e = list(w.values())[0][3]\n",
    "#r = list(e.values())[0][3]"
   ]
  },
  {
   "cell_type": "markdown",
   "metadata": {},
   "source": [
    "<div style=\"direction:rtl\">\n",
    "تفاوت متغیر های tuple و list در چیست؟"
   ]
  },
  {
   "cell_type": "markdown",
   "metadata": {},
   "source": []
  },
  {
   "cell_type": "markdown",
   "metadata": {},
   "source": [
    "<div style=\"direction:rtl\">\n",
    "تابعی بنویسید که یک ایمیل را به عنوان ورودی دریافت نماید و شرکت ارائه دهنده ی دامنه ی ایمیل را معرفی کند.\n",
    "<div style=\"direction:rtl\">\n",
    "برای مثال ایمیل abbasomidi77@gmail.com را دریافت نماید و gmail را برگرداند.\n",
    "<div style=\"direction:rtl\">\n",
    "راهنمایی: ایندکس آخر یک متغیر را می توان با -1 و ایندکس یکی مانده به آخر را با -2 نشان داد و به همین ترتیب.\n",
    "<div style=\"direction:rtl\">\n",
    "یعنی مثلا در استرینگ hello کلمه ی o هم با ایندکس 4 قابل دسترسی است هم با ایندکس -1.\n",
    "<div style=\"direction:rtl\">\n",
    "همین قضیه در باره ی لیست ها و دیگر متغیر های پایتون نیز صادق است."
   ]
  },
  {
   "cell_type": "code",
   "execution_count": 77,
   "metadata": {},
   "outputs": [],
   "source": [
    "def domainGet(email):\n",
    "    return email.split('@')[1].split('.')[0]"
   ]
  },
  {
   "cell_type": "code",
   "execution_count": 78,
   "metadata": {},
   "outputs": [
    {
     "data": {
      "text/plain": [
       "'gmail'"
      ]
     },
     "execution_count": 78,
     "metadata": {},
     "output_type": "execute_result"
    }
   ],
   "source": [
    "domainGet(\"abbasomidi77@gmail.com\")"
   ]
  },
  {
   "cell_type": "code",
   "execution_count": 79,
   "metadata": {},
   "outputs": [
    {
     "data": {
      "text/plain": [
       "'yahoo'"
      ]
     },
     "execution_count": 79,
     "metadata": {},
     "output_type": "execute_result"
    }
   ],
   "source": [
    "domainGet(\"itsatest@yahoo.com\")"
   ]
  },
  {
   "cell_type": "markdown",
   "metadata": {},
   "source": [
    "<div style=\"direction:rtl\">\n",
    "تابعی بنویسید که یک جمله را در ورودی دریافت کند و در صورت وجود لغت Dog در آن True را برگرداند.\n",
    "<div style=\"direction:rtl\">\n",
    "دقت کنید که تابع شما نباید به حروف بزرگ و کوچک حساس باشد، یعنی dog با DOG با Dog هیچ فرقی ندارد و باید به ازای مشاهده ی هر کدام از این لغات، True را برگرداند."
   ]
  },
  {
   "cell_type": "code",
   "execution_count": 94,
   "metadata": {},
   "outputs": [],
   "source": [
    "def findDog(st):\n",
    "    hokm = False\n",
    "    st = st.lower()\n",
    "    for i in st.split() :\n",
    "       if i == 'dog':\n",
    "           hokm = True\n",
    "           \n",
    "    return hokm"
   ]
  },
  {
   "cell_type": "code",
   "execution_count": 95,
   "metadata": {},
   "outputs": [
    {
     "data": {
      "text/plain": [
       "True"
      ]
     },
     "execution_count": 95,
     "metadata": {},
     "output_type": "execute_result"
    }
   ],
   "source": [
    "findDog('Is there a dog here?')"
   ]
  },
  {
   "cell_type": "code",
   "execution_count": 96,
   "metadata": {},
   "outputs": [
    {
     "data": {
      "text/plain": [
       "True"
      ]
     },
     "execution_count": 96,
     "metadata": {},
     "output_type": "execute_result"
    }
   ],
   "source": [
    "findDog('Is there a DoG here?')"
   ]
  },
  {
   "cell_type": "markdown",
   "metadata": {},
   "source": [
    "<div style=\"direction:rtl\">\n",
    "تابعی بنویسید که تعداد لغات dog موجود در جمله را بشمارد.\n",
    "<div style=\"direction:rtl\">\n",
    "پ.ن1: باز هم دقت کنید که تابع شما نباید حساس به حروف بزرگ و کوچک باشد.\n",
    "<div style=\"direction:rtl\">\n",
    "این تابع را به دو صورت بنویسید، یک بار بدون استفاده از متد count و یک بار هم با تحقیق در باره ی این متد و استفاده از آن."
   ]
  },
  {
   "cell_type": "code",
   "execution_count": 90,
   "metadata": {},
   "outputs": [],
   "source": [
    "def countDog(st):\n",
    "    '''\n",
    "    This Function dosn't Use Count Method\n",
    "    '''\n",
    "    s = st.lower()\n",
    "    dog = 0\n",
    "    for i in s.split():\n",
    "        if i == \"dog\":\n",
    "           dog += 1\n",
    "    return dog      \n",
    "   "
   ]
  },
  {
   "cell_type": "code",
   "execution_count": 91,
   "metadata": {},
   "outputs": [
    {
     "data": {
      "text/plain": [
       "2"
      ]
     },
     "execution_count": 91,
     "metadata": {},
     "output_type": "execute_result"
    }
   ],
   "source": [
    "countDog('This dog runs faster than the other DOG dude!')"
   ]
  },
  {
   "cell_type": "code",
   "execution_count": 92,
   "metadata": {},
   "outputs": [],
   "source": [
    "def countDog(st):\n",
    "    #This Function Use Count Method\n",
    "    return st.lower().count('dog')"
   ]
  },
  {
   "cell_type": "code",
   "execution_count": 93,
   "metadata": {},
   "outputs": [
    {
     "data": {
      "text/plain": [
       "2"
      ]
     },
     "execution_count": 93,
     "metadata": {},
     "output_type": "execute_result"
    }
   ],
   "source": [
    "countDog('This dog runs faster than the other DOG dude!')"
   ]
  },
  {
   "cell_type": "markdown",
   "metadata": {},
   "source": [
    "<div style=\"direction:rtl\">\n",
    "از لامبدا استفاده کنید تا بدون ذخیره ی تابع از قبل، لغات موجود در یک لیست را بررسی کنید و آن هایی که با s شروع می شوند را برگردانید."
   ]
  },
  {
   "cell_type": "code",
   "execution_count": 29,
   "metadata": {},
   "outputs": [],
   "source": [
    "seq = ['soup','dog','salad','cat','great']"
   ]
  },
  {
   "cell_type": "code",
   "execution_count": 88,
   "metadata": {},
   "outputs": [
    {
     "name": "stdout",
     "output_type": "stream",
     "text": [
      "['soup', 'salad']\n"
     ]
    }
   ],
   "source": [
    "l = list(filter(lambda x : x[0] == 's',seq))\n",
    "print(l)"
   ]
  },
  {
   "cell_type": "markdown",
   "metadata": {},
   "source": [
    "<div style=\"direction:rtl\">\n",
    "خب خب، فرض کنید که شما یک پلیس زحمت کش راهنمایی رانندگی هستید و قصد جریمه ی متخلفین را دارید. قبل از همه باید بدانید که شما سه مدل کار می توانید انجام دهید، سرعت های زیر 90 کیلومتر را جریمه نمی کنید پس باید به آن ها NO TICKET! به عنوان خروجی بدهید.\n",
    "<div style=\"direction:rtl\">\n",
    "اما سرعت های بین 91 تا 110 کیلومتر را می توانید 40 هزار تومان جریمه کنید، به این متخلفین خروجی SMALL TICKET! را برگردانید.\n",
    "<div style=\"direction:rtl\">\n",
    "اگر سرعت از 111 کیلومتر به بالاتر بود که متخلف گرامی 400 هزار تومان جریمه شده و باید به او خروجی BIG TICKET! را برگردانید.\n",
    "<div style=\"direction:rtl\">\n",
    "اما برای رفاه حال متخلفین گرامی، ما از آن ها می پرسیم که آیا امروز تولد آنهاست یا خیر و اگر آن روز، روز تولد او بود، ما از سرعت او 5 کیلومتر کم می کنیم و سپس جریمه را اعمال می کنیم.\n",
    "<div style=\"direction:rtl\">\n",
    "پ.ن1: تابعی بنویسید که ورودی های لازم را دریافت کند و موارد بالا را به خوبی پیاده سازی کند.\n",
    "<div style=\"direction:rtl\">\n",
    "پ.ن2: ممکن است پس از اعمال تخفیف تولد، متخلف از پرداخت جریمه معاف شود و مشکلی نیست.\n",
    "<div style=\"direction:rtl\">\n",
    "پ.ن3: جواب سوال این که آیا امروز تولد راننده است یا خیر را باید به شکل یک متغیر boolean دریافت کنیم.\n",
    "<div style=\"direction:rtl\">\n",
    "مبلغ جریمه یک داده ی انحرافی و بی استفاده است :)"
   ]
  },
  {
   "cell_type": "code",
   "execution_count": 85,
   "metadata": {},
   "outputs": [],
   "source": [
    "def caught_speeding(speed, is_birthday):\n",
    "    if is_birthday == True:\n",
    "        speed -= 5   \n",
    "    if speed <= 90 :\n",
    "        return 'No Ticket'\n",
    "    elif 90< speed <= 110 :\n",
    "        return 'Small Ticket'\n",
    "    else :\n",
    "        return 'BIG TICKET'\n"
   ]
  },
  {
   "cell_type": "code",
   "execution_count": 86,
   "metadata": {},
   "outputs": [
    {
     "data": {
      "text/plain": [
       "'No Ticket'"
      ]
     },
     "execution_count": 86,
     "metadata": {},
     "output_type": "execute_result"
    }
   ],
   "source": [
    "caught_speeding(91,True)"
   ]
  },
  {
   "cell_type": "code",
   "execution_count": 87,
   "metadata": {},
   "outputs": [
    {
     "data": {
      "text/plain": [
       "'Small Ticket'"
      ]
     },
     "execution_count": 87,
     "metadata": {},
     "output_type": "execute_result"
    }
   ],
   "source": [
    "caught_speeding(91,False)"
   ]
  },
  {
   "cell_type": "markdown",
   "metadata": {},
   "source": [
    "<div style=\"direction:rtl\">\n",
    "\n",
    "## موفق باشید"
   ]
  }
 ],
 "metadata": {
  "kernelspec": {
   "display_name": "Python 3 (ipykernel)",
   "language": "python",
   "name": "python3"
  },
  "language_info": {
   "codemirror_mode": {
    "name": "ipython",
    "version": 3
   },
   "file_extension": ".py",
   "mimetype": "text/x-python",
   "name": "python",
   "nbconvert_exporter": "python",
   "pygments_lexer": "ipython3",
   "version": "3.7.3"
  }
 },
 "nbformat": 4,
 "nbformat_minor": 4
}
